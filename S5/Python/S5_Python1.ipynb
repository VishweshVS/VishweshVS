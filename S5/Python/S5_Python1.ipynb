{
 "cells": [
  {
   "cell_type": "code",
   "execution_count": 1,
   "id": "45b78871-89c3-4930-95c0-626e12e67fb5",
   "metadata": {},
   "outputs": [
    {
     "name": "stdin",
     "output_type": "stream",
     "text": [
      "Enter a number:  4\n"
     ]
    },
    {
     "name": "stdout",
     "output_type": "stream",
     "text": [
      "4  is a Positive number.\n"
     ]
    }
   ],
   "source": [
    "l=float(input(\"Enter a number: \"))\n",
    "n=int(l)\n",
    "if n > 0:\n",
    "\tprint(n,\" is a Positive number.\")\n",
    "elif n == 0:\n",
    "\tprint(n,\" is zero.\")\n",
    "else:\n",
    "\t print(n,\" is a negative number.\")\n"
   ]
  },
  {
   "cell_type": "code",
   "execution_count": 2,
   "id": "61d5fd04-80da-41d5-b832-f86877168b1c",
   "metadata": {},
   "outputs": [
    {
     "name": "stdin",
     "output_type": "stream",
     "text": [
      "How's the climate outside?\n",
      "1.Sunny\n",
      "2.Rainy\n",
      "3.Thunder\n",
      " 1\n",
      "Do you have an Umbrella? YES\n",
      "  ------------------------\n",
      "1.|Should you go outside?|\n",
      "  ------------------------\n",
      " ------------------------\n",
      "2.|Should you carry the umbrella?|\n",
      "  ------------------------\n",
      " 2\n"
     ]
    },
    {
     "name": "stdout",
     "output_type": "stream",
     "text": [
      "No you can go without it!\n"
     ]
    }
   ],
   "source": [
    "a=int(input(\"How's the climate outside?\\n1.Sunny\\n2.Rainy\\n3.Thunder\\n\"))\n",
    "if a in [1,2,3]:\n",
    "\tb=input(\"Do you have an Umbrella?\")\n",
    "\tif b == 'YES' or b == 'NO':\n",
    "\t\tq=int(input(\"  ------------------------\\n1.|Should you go outside?|\\n  ------------------------\\n ------------------------\\n2.|Should you carry the umbrella?|\\n  ------------------------\\n\"))\n",
    "\telse:\n",
    "\t\tprint(\"Enter valid choice!\")\n",
    "\t\n",
    "else:\n",
    "\tprint(\"Enter valid choice!\")\n",
    "if q == 1 and (a == 1 or b == 'YES'):\n",
    "\tprint(\"Yes you can go!\")\n",
    "elif q == 1 and (a != 1 and b == 'YES'):\n",
    "\tprint(\"Yes you can go!\")\n",
    "elif q == 1 and (a != 1 and b == 'NO'):\n",
    "\tprint(\"No, you can't go!\")\n",
    "elif q == 1 and (a == 1 and b == 'NO'):\n",
    "\tprint(\"Yes you can go!\")\n",
    "if q == 2 and (a == 1 and b == 'YES'):\n",
    "\tprint(\"No you can go without it!\")\n",
    "elif q == 2 and (a != 1 and b == 'YES'):\n",
    "\tprint(\"Yes, you should carry the umbrella!\")\n",
    "elif q == 2 and (b == 'NO'):\n",
    "\tprint(\"You don't have a Umbrella\")\n"
   ]
  },
  {
   "cell_type": "code",
   "execution_count": 3,
   "id": "b5b33079-6d8b-460c-bc2e-d84682ca188c",
   "metadata": {},
   "outputs": [
    {
     "name": "stdin",
     "output_type": "stream",
     "text": [
      "Enter a sentence:  Hi I am using Python.\n"
     ]
    },
    {
     "name": "stdout",
     "output_type": "stream",
     "text": [
      "No.of characters:  17\n",
      "Uppercase :  HI I AM USING PYTHON. \n",
      "Lowercase :  hi i am using python.\n",
      "Hi_I_am_using_Python.\n",
      "The word Python is present.\n"
     ]
    }
   ],
   "source": [
    "s=str(input(\"Enter a sentence: \"))\n",
    "chr=0\n",
    "for i in s:\n",
    "\tif i != \" \":\n",
    "\t\tchr+=1\n",
    "print(\"No.of characters: \",chr)\n",
    "print(\"Uppercase : \",s.upper(),\"\\nLowercase : \",s.lower())\n",
    "k=s\n",
    "j=0\n",
    "\n",
    "print(k.replace(' ','_'))\n",
    "l=[]\n",
    "l.append(s.split())\n",
    "p='Python'\n",
    "if p in s:\n",
    "\tprint(\"The word Python is present.\")\n"
   ]
  },
  {
   "cell_type": "code",
   "execution_count": 4,
   "id": "160fcac6-59fd-4b1b-8865-35e4feb42157",
   "metadata": {},
   "outputs": [
    {
     "name": "stdout",
     "output_type": "stream",
     "text": [
      "Hello, World!\n",
      " Welcome to the Python Programming\n"
     ]
    }
   ],
   "source": [
    "print(\"Hello, World!\\n Welcome to the Python Programming\")\n"
   ]
  },
  {
   "cell_type": "code",
   "execution_count": 5,
   "id": "acc67e53-2a98-430d-99ce-8704e4c2578f",
   "metadata": {},
   "outputs": [
    {
     "name": "stdin",
     "output_type": "stream",
     "text": [
      "Enter the first input: 77\n",
      "Enter the second input: 88\n",
      "Enter the OPERATION TO PERFORM: +,-,*,/ *\n"
     ]
    },
    {
     "name": "stdout",
     "output_type": "stream",
     "text": [
      "Product of  77  and  88  =  6776\n"
     ]
    }
   ],
   "source": [
    "a=int(input(\"Enter the first input:\"))\n",
    "b=int(input(\"Enter the second input:\"))\n",
    "c=(input(\"Enter the OPERATION TO PERFORM: +,-,*,/\"))\n",
    "if c == '+':\n",
    "\tprint(\"Sum of \",a,\" + \",b,\" = \",a+b)\n",
    "elif c == \"-\":\n",
    "\tif a > b:\n",
    "\t\tprint(\"Difference of \",a,\" and \",b,\" = \",a-b)\n",
    "\telse:\n",
    "\t\tprint(\"Difference of \",b,\" and \",a,\" = \",b-a)\n",
    "elif c == '*':\n",
    "\tprint(\"Product of \",a,\" and \",b,\" = \",a*b)\n",
    "elif c == '/':\n",
    "\tprint(\"Quotient of \",a,\" and \",b,\" = \",a/b)\n",
    "else:\n",
    "\tprint(\"Enter a valid option!\")\n"
   ]
  },
  {
   "cell_type": "code",
   "execution_count": 6,
   "id": "0ba84493-318e-412a-8fe0-71275ea0706c",
   "metadata": {},
   "outputs": [
    {
     "name": "stdout",
     "output_type": "stream",
     "text": [
      "<class 'int'> \n",
      " <class 'float'> \n",
      " <class 'str'>\n",
      "\n",
      " 10  +  5.5  =  15.5 \n",
      " PythonIs fun!\n"
     ]
    }
   ],
   "source": [
    "a=10\n",
    "b=5.5\n",
    "c=\"Python\"\n",
    "print(type(a),\"\\n\",type(b),\"\\n\",type(c))\n",
    "d='Is fun!'\n",
    "print(\"\\n\",a,\" + \",b,\" = \",a+b,\"\\n\",c+d)\n"
   ]
  },
  {
   "cell_type": "code",
   "execution_count": 8,
   "id": "ec2d819a-2828-42b2-80f8-e4ceecf24cc8",
   "metadata": {},
   "outputs": [
    {
     "name": "stdin",
     "output_type": "stream",
     "text": [
      "Enter the first input: 4\n",
      "Enter the second input: 8\n",
      "Enter the preferrable calculation you want to perform on the two numbers:\n",
      "1.Add\n",
      "2.Substract\n",
      "3.Multiply\n",
      "4.Divide\n",
      "5.Floor Divide\n",
      "6.Modulo\n",
      "7.Exponentiation\n",
      ":: 1\n"
     ]
    },
    {
     "name": "stdout",
     "output_type": "stream",
     "text": [
      "Sum of  4  +  8  =  12\n"
     ]
    }
   ],
   "source": [
    "a=int(input(\"Enter the first input:\"))\n",
    "b=int(input(\"Enter the second input:\"))\n",
    "c=int(input(\"Enter the preferrable calculation you want to perform on the two numbers:\\n1.Add\\n2.Substract\\n3.Multiply\\n4.Divide\\n5.Floor Divide\\n6.Modulo\\n7.Exponentiation\\n::\"))\n",
    "if c == 1:\n",
    "\tprint(\"Sum of \",a,\" + \",b,\" = \",a+b)\n",
    "elif c == 2:\n",
    "\tif a > b:\n",
    "\t\tprint(\"Difference of \",a,\" and \",b,\" = \",a-b)\n",
    "\telse:\n",
    "\t\tprint(\"Difference of \",b,\" and \",a,\" = \",b-a)\n",
    "elif c == 3:\n",
    "\tprint(\"Product of \",a,\" and \",b,\" = \",a*b)\n",
    "elif c == 4:\n",
    "\tprint(\"Quotient of \",a,\" and \",b,\" = \",a/b)\n",
    "elif c == 5:\n",
    "\tprint(\"Floor Quotient of \",a,\" and \",b,\" = \",abs(a//b))\n",
    "elif c == 6:\n",
    "\tprint(\"Remainder of \",a,\" and \",b,\" = \",a%b)\n",
    "elif c == 7:\n",
    "\tprint(\"Exponential of \",a,\" to power \",b,\" = \",pow(a,b))\n",
    "else:\n",
    "\tprint(\"Enter a valid option!\")\n"
   ]
  },
  {
   "cell_type": "code",
   "execution_count": 9,
   "id": "0cd2577b-232e-4ff5-ae3f-18736ba995b0",
   "metadata": {},
   "outputs": [
    {
     "name": "stdin",
     "output_type": "stream",
     "text": [
      "Enter the marks out of 100:  89\n"
     ]
    },
    {
     "name": "stdout",
     "output_type": "stream",
     "text": [
      "GRADE B\n"
     ]
    }
   ],
   "source": [
    "m=int(input(\"Enter the marks out of 100: \"))\n",
    "if m >= 90:\n",
    "\tprint(\"GRADE A\")\n",
    "elif m >= 75 and m <=89:\n",
    "\tprint(\"GRADE B\")\n",
    "elif m >= 60 and m <= 74:\n",
    "\tprint(\"GRADE C\")\n",
    "elif m >= 40 and m <= 59:\n",
    "\tprint(\"GRADE D\")\n",
    "elif m < 40:\n",
    "\tprint(\"FAIL!\")\n",
    "\n"
   ]
  },
  {
   "cell_type": "code",
   "execution_count": null,
   "id": "14ea813f-fde1-409a-8b23-64bc6e23159e",
   "metadata": {},
   "outputs": [],
   "source": []
  }
 ],
 "metadata": {
  "kernelspec": {
   "display_name": "Python 3 (ipykernel)",
   "language": "python",
   "name": "python3"
  },
  "language_info": {
   "codemirror_mode": {
    "name": "ipython",
    "version": 3
   },
   "file_extension": ".py",
   "mimetype": "text/x-python",
   "name": "python",
   "nbconvert_exporter": "python",
   "pygments_lexer": "ipython3",
   "version": "3.10.12"
  }
 },
 "nbformat": 4,
 "nbformat_minor": 5
}
